{
 "cells": [
  {
   "cell_type": "markdown",
   "metadata": {},
   "source": [
    "# The OCIL Instance with the Entropy and the Weight of Attritubes"
   ]
  },
  {
   "cell_type": "markdown",
   "metadata": {},
   "source": [
    "### Research manuscript - timestamp:2020.09.29 \n",
    "Have built an OCIL instance by python, and introduced the entropy and the weight of attritubes successfully. And the problems about the calculation of entropy had been solved eventually. Through experiments, I found that the effects of clustering are different between different weights, indicating that the clustering centers and clustering performance of categorical and numerical in the same mixed data set are different. Therefore, determining the weight is a key step of mixed data clustering, and ultimately affects the final clustering effect. The effect of weight is visualized by drawing a curve, but there is no more suitable mixed data set for the time being, and the iris data set could only be temporarily used."
   ]
  },
  {
   "cell_type": "markdown",
   "metadata": {},
   "source": [
    "## The Entropy Calculation Function\n",
    "Constructed a function to calculate the entropy of categorical variables, the input of the function is the matrix of categorical variables, and the output is the weight of each attritubes based on entropy. The code and the performance of function are as follows (a random matirx contain 30000*3 categorical sampling):"
   ]
  },
  {
   "cell_type": "code",
   "execution_count": 33,
   "metadata": {},
   "outputs": [
    {
     "name": "stdout",
     "output_type": "stream",
     "text": [
      "[['df' 'aa' 'df']\n",
      " ['df' 'dx' 'aa']\n",
      " ['aa' 'dx' 'aa']\n",
      " ...\n",
      " ['aa' 'ab' 'df']\n",
      " ['aa' 'ab' 'aa']\n",
      " ['df' 'dx' 'aa']]\n",
      "the weight of each attritubes:  [0.39214705776029324, 0.3475784608199187, 0.26027448141978804]\n"
     ]
    }
   ],
   "source": [
    "import numpy as np\n",
    "import random\n",
    "import math\n",
    "from collections import Counter\n",
    "\n",
    "def entropyOCIL(dataC): # get the entropy of each Ar, input: whole data or categorical data, output: the list\n",
    "    entropyList = []\n",
    "    freqList = []\n",
    "    parameterList = []\n",
    "    entropyAttriList = []\n",
    "    frequencyAttri = {}\n",
    "    categRawData = dataC\n",
    "    \n",
    "    for col in range(dataC.shape[1]):\n",
    "        freqList = []\n",
    "        entropyList = []\n",
    "        frequencyAttri = dict(Counter(categRawData[:, col]))\n",
    "        for i in frequencyAttri:\n",
    "            entropyList.append(frequencyAttri[i] / len(categRawData[:, col]))\n",
    "        for i in range(len(entropyList)):\n",
    "            freqList.append(-entropyList[i]*math.log(entropyList[i]))\n",
    "        entropyAttriList.append(sum(freqList)/len(frequencyAttri.items()))\n",
    "    for i in range(len(entropyAttriList)):\n",
    "        parameterList.append(entropyAttriList[i]/sum(entropyAttriList))\n",
    "    \n",
    "    return parameterList\n",
    "strLibrary1 = np.array([[\"aa\",\"aa\",\"df\",\"dx\",\"aa\",\"df\"],[\"aa\",\"ab\",\"df\",\"dx\",\"az\",\"dc\"],[\"aa\",\"aa\",\"aa\",\"aa\",\"aa\",\"df\"]])\n",
    "\n",
    "categData = np.ones((30000,3),dtype = object)\n",
    "for i in range(categData.shape[1]):\n",
    "    for j in range(categData.shape[0]):\n",
    "        categData[j,i] = random.choice(strLibrary1[i,:])\n",
    "\n",
    "np.set_printoptions(threshold = 0)\n",
    "print(categData)\n",
    "print(\"the weight of each attritubes: \",entropyOCIL(categData))\n",
    "\n"
   ]
  },
  {
   "cell_type": "markdown",
   "metadata": {},
   "source": [
    "##  The Image of Weight Coefficient and the Sampling Distribution \n",
    "Because there is no suitable mixed data set for the time being, I used the .target vector of the iris data set as the categorical data set. Therefore, it can be considered that the accuracy of categorical variable clustering is 100%. I drew the changing curve of clustering accuracy under different weights of categorical attritubes. It can be seen that the clustering performance of categorical features and numerical features are often different, and the overall clustering accuracy also changes as the weight changes. The next significant step is to find more suitable data sets and explore the varietys in weights. The second figure describes the clustering performance under 0.0 categorical attritubes weight which means the weight of numerical clustering is 100%. It can be seen that the clustering performance of the numerical attritubes of the OCIL algorithm in the paper is still very ideal."
   ]
  },
  {
   "cell_type": "code",
   "execution_count": 38,
   "metadata": {},
   "outputs": [
    {
     "name": "stdout",
     "output_type": "stream",
     "text": [
      "input the cluster number: 3\n",
      "max iterative times 20\n"
     ]
    },
    {
     "data": {
      "image/png": "[encoded data removed]",
      "text/plain": [
       "<Figure size 432x288 with 1 Axes>"
      ]
     },
     "metadata": {
      "needs_background": "light"
     },
     "output_type": "display_data"
    },
    {
     "data": {
      "image/png": "[encoded data removed]",
      "text/plain": [
       "<Figure size 432x288 with 1 Axes>"
      ]
     },
     "metadata": {
      "needs_background": "light"
     },
     "output_type": "display_data"
    }
   ],
   "source": [
    "# OCIL instance by python\n",
    "\n",
    "import numpy as np\n",
    "import random\n",
    "import math\n",
    "import copy\n",
    "from collections import Counter\n",
    "\n",
    "def check(data): #input:data matirx(two dims) output:the index list of the categorical and numerical attributes\n",
    "    m, n = data.shape\n",
    "    N = []\n",
    "    C = []\n",
    "\n",
    "    for i in range(n):\n",
    "        try:\n",
    "            if isinstance(data[0,i],int) or isinstance(data[0,i],float):\n",
    "                N.append(i)\n",
    "            elif isinstance(data[0,i],str):\n",
    "                C.append(i)\n",
    "            else:\n",
    "                raise ValueError(\"the %d column is not a number or a string column\" % i)\n",
    "        except TypeError as te:\n",
    "            print(te)\n",
    "    \n",
    "    return C, N\n",
    "\n",
    "def entropyOCIL(dataC): # get the entropy of each Ar, input: whole data or categorical data, output: the list\n",
    "    entropyList = []\n",
    "    freqList = []\n",
    "    parameterList = []\n",
    "    entropyAttriList = []\n",
    "    frequencyAttri = {}\n",
    "    categRawData = dataC\n",
    "    \n",
    "    for col in range(dataC.shape[1]):\n",
    "        freqList = []\n",
    "        entropyList = []\n",
    "        frequencyAttri = dict(Counter(categRawData[:, col]))\n",
    "        for i in frequencyAttri:\n",
    "            entropyList.append(frequencyAttri[i] / len(categRawData[:, col]))\n",
    "        for i in range(len(entropyList)):\n",
    "            freqList.append(-entropyList[i]*math.log(entropyList[i]))\n",
    "        entropyAttriList.append(sum(freqList)/len(frequencyAttri.items()))\n",
    "    for i in range(len(entropyAttriList)):\n",
    "        parameterList.append(entropyAttriList[i]/sum(entropyAttriList))\n",
    "    \n",
    "    return parameterList\n",
    "\n",
    "def similarityCategorical(Categorical, cluster, entropy):#get the similarity between CateAttri input:Categorical array, cluster array，entropy list. output:the similarity between two arrays, float\n",
    "    hemingwayDis = []\n",
    "    simiCategorical = np.array([])\n",
    "    for i in range(len(Categorical)):\n",
    "        if Categorical[i] == cluster[i]:\n",
    "            hemingwayDis.append(1)\n",
    "        else:\n",
    "            hemingwayDis.append(0)\n",
    "    simiCategorical = np.multiply(np.array(hemingwayDis), np.array(entropy))\n",
    "\n",
    "    return sum(simiCategorical.tolist())\n",
    "\n",
    "def similarityNumerical(Numerical, cluster,clusterTarget):#get the similarity of NumAttri in input:Numerical array,cluster:matrix of the cluster center,clustertarget: the target cluster center output:similarity float\n",
    "    \n",
    "    distanceList = []\n",
    "    for i in range(len(cluster)):\n",
    "        distanceList.append(math.exp(-0.5*sum((Numerical - cluster[i,:])**2)))\n",
    "\n",
    "    return math.exp(-0.5*sum((Numerical-clusterTarget)**2))/sum(distanceList)\n",
    "\n",
    "\n",
    "                  \n",
    "def clusterFinder(dataC, dataN, clusterC, clusterN, dc, dn,):#get the clusterlabel of each data samples, input:data,cluster,dc:categorical weight dn:numerical weight,output: the list of clusterlabel\n",
    "    \n",
    "    similarity = []\n",
    "    clusterLabel = []\n",
    "    entropyInstance = entropyOCIL(dataC)\n",
    "    for i in range(dataC.shape[0]):\n",
    "        similarity = []\n",
    "        \n",
    "        for j in range(clusterC.shape[0]):\n",
    "           similarity.append(dc*similarityCategorical(dataC[i,:], clusterC[j,:], entropyInstance)+dn*similarityNumerical(dataN[i,:], clusterN, clusterN[j,:]))\n",
    "        clusterLabel.append(similarity.index(max(similarity)))\n",
    "    return clusterLabel   \n",
    "\n",
    "def clusterUpdate(dataC, dataN, clusterLabel):#get the new cluster, input:data matrix, clusterlabel output: the new cluster matrix\n",
    "    clusterContainer = []\n",
    "    attributeContainer = []\n",
    "    clusterContainerN = []\n",
    "    attributeContainerN = []\n",
    "    clusterNew = np.zeros((len(Counter(clusterLabel)),dataC.shape[1]),dtype = object)\n",
    "    clusterNewN = np.zeros((len(Counter(clusterLabel)),dataN.shape[1]),dtype = float)\n",
    "    \n",
    "\n",
    "    for i in range(len(Counter(clusterLabel))):\n",
    "        clusterContainer = []\n",
    "        for k in range(dataC.shape[1]):\n",
    "            attributeContainer = []\n",
    "            for j in range(dataC.shape[0]):\n",
    "                if clusterLabel[j] == i:\n",
    "                    attributeContainer.append(dataC[j,k])\n",
    "            clusterContainer.append(Counter(attributeContainer).most_common(1)[0][0])\n",
    "        clusterNew[i,:] = copy.deepcopy(clusterContainer)\n",
    "    \n",
    "    \n",
    "    for i in range(len(Counter(clusterLabel))):\n",
    "        clusterContainerN = []\n",
    "        for k in range(dataN.shape[1]):\n",
    "            attributeContainerN = []\n",
    "            for j in range(dataN.shape[0]):\n",
    "                if clusterLabel[j] == i:\n",
    "                    attributeContainerN.append(dataN[j,k])\n",
    "            clusterContainerN.append(sum(attributeContainerN)/len(attributeContainerN))\n",
    "        clusterNewN[i,:] = copy.deepcopy(clusterContainerN)\n",
    "    \n",
    "    \n",
    "    return clusterNew, clusterNewN\n",
    "                    \n",
    "def iterativeFunc(dataC, dataN, clusterC, clusterN, iteramax, dc):#do the iterative work input:data and cluster,iterative max times output:the clusterlabel and the clusterArray\n",
    "    dn = 1-dc\n",
    "    clusterLabel = []\n",
    "    clusterLabelOld = []\n",
    "    clusterCNew = copy.deepcopy(clusterC)\n",
    "    clusterNNew = copy.deepcopy(clusterN)\n",
    "    for i in range(iteramax):\n",
    "        clusterLabel = clusterFinder(dataC, dataN, clusterCNew, clusterNNew, dc, dn)\n",
    "        if clusterLabel == clusterLabelOld:\n",
    "            #print(\"final iterative times: \",i)\n",
    "            break\n",
    "        clusterLabelOld = copy.deepcopy(clusterLabel)\n",
    "        clusterCNew, clusterNNew = clusterUpdate(dataC, dataN, clusterLabel)\n",
    "    \n",
    "    #print(\"final iterative timesL \", iteramax)\n",
    "\n",
    "    return clusterCNew, clusterNNew, clusterLabel\n",
    "\n",
    "\n",
    "\n",
    "if __name__ == \"__main__\":\n",
    "    from sklearn.datasets import load_iris\n",
    "    from collections import Counter\n",
    "    import matplotlib.pyplot as plt\n",
    "\n",
    "    iris = load_iris()\n",
    "    dc = 0.0\n",
    "    itera = 0\n",
    "    clusterlabel = []\n",
    "    k = int(input(\"input the cluster number: \"))\n",
    "    klist = [30,80,120]\n",
    "    clusterNNew = iris.data[klist,:]\n",
    "    clusterCate = iris.target.reshape(150,1)\n",
    "    clusterCNew = copy.deepcopy(clusterCate[klist,:])\n",
    "    itera = int(input(\"max iterative times \"))\n",
    "    clusterCcontainer = np.zeros((k,iris.data.shape[1]),dtype = object)\n",
    "    clusterNcontainer = np.empty((k,iris.data.shape[1]),dtype = float)\n",
    "    weightList = np.arange(0,0.4,0.01)\n",
    "    accuracyRate = []\n",
    "    for i in range(len(weightList)):\n",
    "        clusterCcontainer, clusterNcontainer, clusterlabel = iterativeFunc(clusterCate, iris.data, clusterCNew, clusterNNew, itera, weightList[i])\n",
    "        accuracyRate.append(sum(clusterlabel == iris.target)/len(iris.target))\n",
    "    fig = plt.figure()\n",
    "    ax1 = fig.add_subplot(111)\n",
    "    ax1.set(xlim=[weightList[0],weightList[-1]],ylim=(accuracyRate[0],accuracyRate[-1]+0.02), title='the image of weight function',\n",
    "            ylabel='the accuracy', xlabel='weight of categorical attritubes')\n",
    "    ax1.plot(weightList,accuracyRate)\n",
    "    plt.show()\n",
    "\n",
    "    clusterCcontainer, clusterNcontainer, clusterlabel = iterativeFunc(clusterCate, iris.data, clusterCNew, clusterNNew, itera, 0.01)\n",
    "    cluster1 = {}\n",
    "    for i in range(len(Counter(clusterlabel))):\n",
    "        clustering = []\n",
    "        for j in range(len(clusterlabel)):\n",
    "            if clusterlabel[j] == i:\n",
    "                clustering.append(j)\n",
    "        cluster1[i] = clustering\n",
    "    data1 = iris.data[cluster1[0],:]\n",
    "    data2 = iris.data[cluster1[1],:]\n",
    "    data3 = iris.data[cluster1[2],:]\n",
    "    plt.scatter(data1[:,0],data1[:,1],marker = 'x',color = 'red', s = 50,label = 'first')\n",
    "    plt.scatter(data2[:,0],data2[:,1],marker = '+',color = 'blue', s = 50,label = 'second')\n",
    "    plt.scatter(data3[:,0],data3[:,1],marker = 'o',color = 'green', s = 50,label = 'third')\n",
    "    plt.title('the distribution when dc = 0')\n",
    "    plt.show()\n"
   ]
  },
  {
   "cell_type": "markdown",
   "metadata": {},
   "source": [
    "## Next research plan\n",
    "1. choose a more appropriate mixed datasets.\n",
    "2. find the quantitative performance of the clustering algorithm ( the indicator like DB, XB e.g.).\n",
    "3. explore more latest clustering algorithms and the calculation of similarity.\n",
    " \n"
   ]
  }
 ],
 "metadata": {
  "kernelspec": {
   "display_name": "Python 3",
   "language": "python",
   "name": "python3"
  },
  "language_info": {
   "codemirror_mode": {
    "name": "ipython",
    "version": 3
   },
   "file_extension": ".py",
   "mimetype": "text/x-python",
   "name": "python",
   "nbconvert_exporter": "python",
   "pygments_lexer": "ipython3",
   "version": "3.8.3"
  }
 },
 "nbformat": 4,
 "nbformat_minor": 4
}
